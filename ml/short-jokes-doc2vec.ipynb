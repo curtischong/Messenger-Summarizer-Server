{
 "cells": [
  {
   "cell_type": "code",
   "execution_count": 1,
   "metadata": {
    "_cell_guid": "b1076dfc-b9ad-4769-8c92-a6c4dae69d19",
    "_uuid": "8f2839f25d086af736a60e9eeb907d3b93b6e0e5"
   },
   "outputs": [],
   "source": [
    "from gensim.test.utils import common_texts\n",
    "from gensim.models.doc2vec import Doc2Vec, TaggedDocument\n",
    "import pandas as pd\n",
    "from scipy import spatial"
   ]
  },
  {
   "cell_type": "code",
   "execution_count": 2,
   "metadata": {},
   "outputs": [],
   "source": [
    "# -*- coding: utf-8 -*-\n",
    "import re\n",
    "alphabets= \"([A-Za-z])\"\n",
    "prefixes = \"(Mr|St|Mrs|Ms|Dr)[.]\"\n",
    "suffixes = \"(Inc|Ltd|Jr|Sr|Co)\"\n",
    "starters = \"(Mr|Mrs|Ms|Dr|He\\s|She\\s|It\\s|They\\s|Their\\s|Our\\s|We\\s|But\\s|However\\s|That\\s|This\\s|Wherever)\"\n",
    "acronyms = \"([A-Z][.][A-Z][.](?:[A-Z][.])?)\"\n",
    "websites = \"[.](com|net|org|io|gov)\"\n",
    "\n",
    "def split_into_sentences(text):\n",
    "    text = \" \" + text + \"  \"\n",
    "    text = text.replace(\"\\n\",\" \")\n",
    "    text = re.sub(prefixes,\"\\\\1<prd>\",text)\n",
    "    text = re.sub(websites,\"<prd>\\\\1\",text)\n",
    "    if \"Ph.D\" in text: text = text.replace(\"Ph.D.\",\"Ph<prd>D<prd>\")\n",
    "    text = re.sub(\"\\s\" + alphabets + \"[.] \",\" \\\\1<prd> \",text)\n",
    "    text = re.sub(acronyms+\" \"+starters,\"\\\\1<stop> \\\\2\",text)\n",
    "    text = re.sub(alphabets + \"[.]\" + alphabets + \"[.]\" + alphabets + \"[.]\",\"\\\\1<prd>\\\\2<prd>\\\\3<prd>\",text)\n",
    "    text = re.sub(alphabets + \"[.]\" + alphabets + \"[.]\",\"\\\\1<prd>\\\\2<prd>\",text)\n",
    "    text = re.sub(\" \"+suffixes+\"[.] \"+starters,\" \\\\1<stop> \\\\2\",text)\n",
    "    text = re.sub(\" \"+suffixes+\"[.]\",\" \\\\1<prd>\",text)\n",
    "    text = re.sub(\" \" + alphabets + \"[.]\",\" \\\\1<prd>\",text)\n",
    "    if \"”\" in text: text = text.replace(\".”\",\"”.\")\n",
    "    if \"\\\"\" in text: text = text.replace(\".\\\"\",\"\\\".\")\n",
    "    if \"!\" in text: text = text.replace(\"!\\\"\",\"\\\"!\")\n",
    "    if \"?\" in text: text = text.replace(\"?\\\"\",\"\\\"?\")\n",
    "    text = text.replace(\".\",\".<stop>\")\n",
    "    text = text.replace(\"?\",\"?<stop>\")\n",
    "    text = text.replace(\"!\",\"!<stop>\")\n",
    "    text = text.replace(\"<prd>\",\".\")\n",
    "    sentences = text.split(\"<stop>\")\n",
    "    sentences = sentences[:-1]\n",
    "    sentences = [s.strip() for s in sentences]\n",
    "    return sentences"
   ]
  },
  {
   "cell_type": "code",
   "execution_count": 3,
   "metadata": {},
   "outputs": [],
   "source": [
    "documents = [TaggedDocument(doc, [i]) for i, doc in enumerate(common_texts)]"
   ]
  },
  {
   "cell_type": "code",
   "execution_count": 4,
   "metadata": {},
   "outputs": [],
   "source": [
    "model = Doc2Vec(documents, vector_size=512, window=2, min_count=1, workers=4)"
   ]
  },
  {
   "cell_type": "code",
   "execution_count": 5,
   "metadata": {},
   "outputs": [],
   "source": [
    "vector = model.infer_vector([\"hello my name is curtis and this is a document\", \"this is a doument that I am writing about yay!\"])\n"
   ]
  },
  {
   "cell_type": "code",
   "execution_count": 6,
   "metadata": {},
   "outputs": [
    {
     "data": {
      "text/plain": [
       "array([ 9.19610728e-04,  3.01197928e-04,  8.06580880e-04,  6.09276351e-04,\n",
       "       -4.53169341e-04, -1.15447918e-04,  7.17524323e-04,  8.96177604e-04,\n",
       "       -7.58598617e-04, -6.51822847e-05, -3.44298955e-04,  3.78788507e-04,\n",
       "       -2.17471446e-04, -9.49723937e-04, -6.39379839e-04, -4.22645564e-04,\n",
       "       -8.12766550e-04, -7.75196531e-04,  3.45941808e-04,  3.37760051e-04,\n",
       "        5.15586464e-04, -4.95488290e-04, -7.61370116e-04,  4.80284332e-04,\n",
       "        9.03651700e-04, -5.44602808e-04,  5.02727868e-04,  4.38383315e-04,\n",
       "        2.16900997e-04,  3.31462739e-04,  7.17164017e-04, -6.84669591e-04,\n",
       "       -6.66361477e-04, -6.26740628e-04, -4.16559706e-05, -5.34589810e-04,\n",
       "        4.77712398e-04, -7.58381793e-04,  6.29130926e-04,  2.61032372e-04,\n",
       "       -8.64734699e-04, -1.13082306e-05,  6.41458726e-04,  5.39374196e-05,\n",
       "        1.72155822e-04,  3.16716090e-04, -8.75335420e-04, -9.09587136e-04,\n",
       "        3.41704908e-05,  1.03584789e-04,  4.33797017e-04,  5.34874038e-04,\n",
       "       -1.63303848e-04,  1.24342441e-05, -8.31051380e-04, -7.79316761e-04,\n",
       "       -5.24618663e-04,  3.08610965e-04,  5.31708647e-05,  4.32861780e-05,\n",
       "       -6.43295236e-04,  4.06833831e-04,  8.13613646e-04, -6.51774753e-04,\n",
       "       -5.67533367e-04,  2.62032409e-04,  1.68380240e-04, -6.81297155e-04,\n",
       "       -4.37865063e-04,  4.49938059e-04,  3.91776266e-04, -7.28045707e-04,\n",
       "       -7.24826474e-04, -5.08031109e-04,  8.33734463e-04,  8.26237316e-04,\n",
       "       -5.03031653e-04, -7.86508434e-04, -9.04736575e-04,  6.34044060e-04,\n",
       "       -9.46969027e-04, -6.05316483e-04, -7.92650681e-04, -8.38264241e-04,\n",
       "        1.36672621e-04, -3.45185108e-04, -6.22187916e-04,  6.19915721e-04,\n",
       "        8.99518665e-04,  4.27855557e-04,  4.53553774e-04,  6.56053424e-04,\n",
       "        8.37750340e-05,  2.92837649e-04, -8.20265966e-04, -4.73221822e-04,\n",
       "       -2.07242716e-04,  3.38510901e-04,  6.41809660e-04,  8.53287231e-04,\n",
       "       -6.41300401e-04, -4.34959860e-04, -7.43060009e-05, -8.04371550e-04,\n",
       "       -1.48189516e-04,  6.90348214e-04,  2.07710444e-04, -9.35413991e-04,\n",
       "       -6.95035153e-04,  6.98487449e-04, -1.68456914e-04, -9.56211763e-04,\n",
       "       -2.58540058e-05,  5.62234840e-04, -3.99273180e-04, -2.77159474e-04,\n",
       "       -3.78144527e-04,  2.57239823e-04, -1.11583788e-04,  5.46921510e-04,\n",
       "       -5.85416914e-04,  3.67776192e-05,  7.39846553e-04,  3.41094274e-04,\n",
       "       -6.98836113e-04, -5.24827919e-04, -6.48157438e-04, -4.10120236e-04,\n",
       "       -3.07883573e-04,  9.28593217e-04, -6.98557531e-04, -2.82153487e-04,\n",
       "       -6.59367593e-04,  4.22905840e-04, -7.75154156e-04,  1.22689715e-04,\n",
       "       -1.23500373e-04,  8.57822306e-04,  8.04057519e-04,  8.04219686e-04,\n",
       "       -6.55449752e-04,  7.50883890e-04, -4.07456857e-04, -1.91966959e-04,\n",
       "        1.99563248e-04,  3.27411748e-04,  3.51751631e-04,  2.20706439e-04,\n",
       "       -3.60572885e-05, -6.84468134e-04, -1.74691930e-04, -1.52668668e-04,\n",
       "        7.18432770e-04, -6.12116419e-04, -2.51444115e-04, -7.80517410e-04,\n",
       "       -8.44360271e-04, -7.29469990e-04, -4.64775221e-04,  4.79959825e-04,\n",
       "       -6.17155747e-05, -4.37583731e-05, -5.67082781e-04, -2.61337147e-04,\n",
       "       -6.28413516e-04,  5.41019719e-04,  8.26279691e-04,  2.48773082e-04,\n",
       "       -7.74833607e-04, -6.28296344e-04,  9.27488203e-04, -1.14678784e-04,\n",
       "       -1.55547910e-04, -1.25340623e-04,  6.31880015e-04,  4.42061806e-04,\n",
       "       -7.59382499e-04,  6.78304292e-04, -6.58257166e-04,  4.81740863e-04,\n",
       "       -8.65297334e-04,  4.55922156e-04,  5.06855904e-05,  9.02550470e-04,\n",
       "        5.79982589e-04, -5.95490157e-04,  3.55646276e-04,  3.63027757e-05,\n",
       "        9.61909129e-04, -9.15210694e-04, -8.06346245e-04, -9.66969470e-04,\n",
       "       -5.12397150e-04, -5.46098381e-05,  6.65878120e-04, -5.74673701e-04,\n",
       "        1.79408904e-04,  5.46694617e-04,  4.48424136e-04,  6.66237611e-04,\n",
       "       -1.99369228e-04,  2.81168002e-04,  5.50136028e-04, -8.56973929e-04,\n",
       "       -1.93966727e-04,  7.30145897e-04,  9.52363655e-04, -5.28695164e-05,\n",
       "       -8.17662978e-04,  6.72571943e-04, -4.71026229e-04,  8.51401928e-05,\n",
       "        3.80018610e-04,  6.14441524e-05,  1.00490171e-04, -7.72465137e-04,\n",
       "       -1.72558241e-04,  4.51022788e-04, -7.03637896e-04, -8.63629393e-04,\n",
       "       -7.86721008e-04,  7.32765184e-04,  7.23730249e-04,  5.75869999e-05,\n",
       "        1.03691286e-06, -4.58619092e-04,  7.70933693e-05, -7.48066406e-04,\n",
       "        6.33010408e-04, -4.24254868e-05,  7.68282742e-04, -7.57415080e-04,\n",
       "       -1.34768197e-04, -2.86649854e-04,  5.72185963e-04, -7.84965057e-04,\n",
       "       -7.08402891e-04, -9.33230796e-04,  9.50648246e-05, -5.77824947e-04,\n",
       "       -5.02665585e-04, -2.44476076e-04, -7.99864065e-04, -3.35235643e-04,\n",
       "        1.12791466e-04, -3.38304089e-04,  8.17021646e-04,  8.22388334e-04,\n",
       "       -8.97573249e-04,  8.84059002e-04, -9.57784127e-04, -1.43544356e-04,\n",
       "        7.01205165e-04, -8.24318151e-04, -4.42489953e-04, -1.63105156e-04,\n",
       "        1.57967312e-04, -1.55136979e-04, -9.27359739e-04, -4.31266904e-04,\n",
       "        3.83170060e-04, -3.75742966e-04, -7.77310459e-04, -3.03261040e-04,\n",
       "        7.42713280e-04, -3.35558609e-04, -6.45727094e-04,  1.71084350e-04,\n",
       "        7.09417334e-04, -7.57699599e-04,  9.60100966e-04, -3.19467326e-05,\n",
       "       -3.97779222e-04, -7.25979626e-04,  4.14316833e-04,  4.26128507e-04,\n",
       "       -4.73919281e-05, -5.31547994e-04, -6.50789007e-04, -5.81434171e-04,\n",
       "        2.75936880e-04,  7.23325124e-04,  2.77688057e-04,  4.98417765e-04,\n",
       "        7.70094630e-04,  5.76849328e-04, -1.84225282e-04,  9.20427556e-04,\n",
       "        1.58318231e-04, -6.28883892e-04, -1.22120415e-04, -3.03838315e-04,\n",
       "        6.96774005e-05,  5.64669492e-04,  4.67514008e-04,  6.81302627e-04,\n",
       "        3.90708738e-04,  5.57617866e-04, -1.63311299e-04,  3.86935862e-04,\n",
       "       -8.49876436e-04, -3.40244369e-05,  1.11013333e-06, -9.50032903e-04,\n",
       "        1.73179593e-04,  7.96762295e-04,  2.75040133e-04,  5.66092494e-04,\n",
       "       -5.47953066e-04,  2.36534310e-04,  2.41971167e-04, -7.15098868e-04,\n",
       "        4.37123148e-04, -2.36404274e-04, -2.68308242e-04,  8.96725804e-04,\n",
       "        6.27668400e-04,  1.22962505e-04, -3.56903241e-04, -1.63592529e-06,\n",
       "        4.44383186e-04,  9.58257180e-04,  2.54174549e-04,  3.07686532e-05,\n",
       "       -3.42742715e-04,  9.69313493e-04, -5.86511567e-04, -5.13212308e-06,\n",
       "        6.44590531e-04, -2.70455377e-04,  2.95509526e-04,  1.18694195e-04,\n",
       "        2.60213303e-04, -1.70681233e-04,  5.70463773e-04,  7.42068922e-04,\n",
       "       -2.26535427e-04, -1.29482389e-04,  5.51997800e-04, -6.75151183e-04,\n",
       "        7.30388332e-04, -3.14161553e-05,  9.41974868e-04,  6.11815776e-04,\n",
       "        5.64923510e-04, -6.74389245e-04,  8.57584237e-04, -2.71201046e-04,\n",
       "        4.08633641e-04,  5.88128751e-04, -5.07919525e-04, -1.29325912e-04,\n",
       "        2.54797906e-05,  7.00986537e-04,  5.18874964e-04,  4.72086860e-04,\n",
       "       -3.50043236e-04, -1.65415258e-04, -2.85404618e-04,  1.79414317e-04,\n",
       "        2.33234987e-05,  3.45434324e-04, -6.34606695e-04,  8.90238094e-04,\n",
       "       -9.49228241e-04,  1.98927431e-04,  1.34960414e-04,  7.91215047e-04,\n",
       "        9.05226218e-04,  4.18296462e-04,  4.56492198e-05, -7.16646493e-04,\n",
       "       -9.68294917e-04, -9.36652650e-04, -1.95296365e-04,  5.31958649e-04,\n",
       "       -5.92805271e-04,  1.87625803e-04,  3.44002969e-04, -2.86138238e-04,\n",
       "       -3.32913973e-04,  4.75019973e-04,  7.86922406e-04, -5.27522992e-04,\n",
       "       -7.33443769e-04,  7.95704429e-04, -9.25065775e-04,  6.52961126e-06,\n",
       "        2.28195189e-04, -7.60152994e-04, -3.10337258e-04,  9.17889061e-04,\n",
       "        3.29949107e-04, -6.53585827e-04, -1.24731829e-04, -5.03282237e-04,\n",
       "       -8.30018689e-05, -3.91871523e-04,  5.02112554e-04,  9.21798346e-04,\n",
       "        4.46372986e-04, -4.66130994e-04, -3.39380436e-04,  4.43658209e-04,\n",
       "        6.47067616e-04, -2.47073127e-04, -3.41232546e-04, -5.57964784e-04,\n",
       "        6.74914743e-04,  3.05755311e-05,  1.54899215e-04, -8.84132227e-04,\n",
       "        8.29050143e-04,  6.88288710e-04, -5.96093712e-04, -7.89000129e-04,\n",
       "       -5.34413906e-04, -3.09429306e-04, -2.24438147e-04, -3.35134158e-04,\n",
       "        2.72216043e-04,  2.07495599e-04,  1.08187160e-04, -3.68538778e-04,\n",
       "       -1.00383848e-04, -8.92425713e-04, -5.95926365e-04,  8.03068513e-04,\n",
       "       -4.23266989e-04, -4.99012647e-04, -5.61921450e-04,  2.07303339e-04,\n",
       "       -7.51687563e-04, -7.30270986e-05, -6.05297158e-04,  4.61703137e-04,\n",
       "        1.88586200e-04, -5.51701407e-04,  8.97960912e-04, -6.22918422e-04,\n",
       "       -2.59565364e-04,  3.69045651e-04, -1.46694132e-04, -2.83766683e-04,\n",
       "       -5.13706007e-04, -3.01969150e-04,  2.93944438e-04, -7.32707267e-04,\n",
       "       -9.90654371e-05,  2.75377475e-04, -1.66165511e-04, -1.98461625e-04,\n",
       "        3.06368238e-05, -7.20717013e-04,  7.74033193e-04,  7.31793698e-04,\n",
       "        7.22942874e-04, -6.97677664e-04, -9.14512842e-04,  9.55909316e-04,\n",
       "       -3.67286499e-04, -9.47501219e-04, -8.28466262e-04,  7.58817478e-04,\n",
       "       -4.51776868e-04, -9.61217622e-04,  7.88863399e-04, -6.25204528e-04,\n",
       "       -1.18067968e-04, -5.76371967e-04,  9.05721274e-04, -2.30424936e-04,\n",
       "       -3.26933921e-04, -5.28013043e-04, -1.95453715e-04, -2.81564222e-04,\n",
       "       -1.88374732e-04, -5.10505924e-04,  6.93468435e-04,  1.78717492e-05,\n",
       "       -9.62173974e-04, -8.35781277e-04,  7.65333316e-05,  2.94904803e-05,\n",
       "       -2.96584127e-04, -7.05901359e-04,  8.94150231e-04, -6.83061953e-04,\n",
       "        4.01399157e-04,  9.74339142e-04, -4.11760993e-05, -9.55872936e-04,\n",
       "        4.13248606e-04, -2.87354167e-04, -3.95243900e-04,  6.69330475e-04,\n",
       "        3.19318497e-04,  7.20406708e-04, -7.25553662e-04,  3.59468133e-04,\n",
       "       -1.69783554e-04,  7.65686622e-04,  6.79885386e-04, -6.37352117e-04,\n",
       "        4.00336343e-04,  4.90556471e-04, -8.27101700e-04,  4.42416931e-04,\n",
       "       -5.72465069e-04, -5.06876037e-04,  3.50160088e-04,  4.25985272e-05],\n",
       "      dtype=float32)"
      ]
     },
     "execution_count": 6,
     "metadata": {},
     "output_type": "execute_result"
    }
   ],
   "source": [
    "vector"
   ]
  },
  {
   "cell_type": "code",
   "execution_count": 7,
   "metadata": {},
   "outputs": [
    {
     "data": {
      "text/html": [
       "<div>\n",
       "<style scoped>\n",
       "    .dataframe tbody tr th:only-of-type {\n",
       "        vertical-align: middle;\n",
       "    }\n",
       "\n",
       "    .dataframe tbody tr th {\n",
       "        vertical-align: top;\n",
       "    }\n",
       "\n",
       "    .dataframe thead th {\n",
       "        text-align: right;\n",
       "    }\n",
       "</style>\n",
       "<table border=\"1\" class=\"dataframe\">\n",
       "  <thead>\n",
       "    <tr style=\"text-align: right;\">\n",
       "      <th></th>\n",
       "      <th>ID</th>\n",
       "      <th>Joke</th>\n",
       "    </tr>\n",
       "  </thead>\n",
       "  <tbody>\n",
       "    <tr>\n",
       "      <th>0</th>\n",
       "      <td>1</td>\n",
       "      <td>[me narrating a documentary about narrators] \"...</td>\n",
       "    </tr>\n",
       "    <tr>\n",
       "      <th>1</th>\n",
       "      <td>2</td>\n",
       "      <td>Telling my daughter garlic is good for you. Go...</td>\n",
       "    </tr>\n",
       "    <tr>\n",
       "      <th>2</th>\n",
       "      <td>3</td>\n",
       "      <td>I've been going through a really rough period ...</td>\n",
       "    </tr>\n",
       "    <tr>\n",
       "      <th>3</th>\n",
       "      <td>4</td>\n",
       "      <td>If I could have dinner with anyone, dead or al...</td>\n",
       "    </tr>\n",
       "    <tr>\n",
       "      <th>4</th>\n",
       "      <td>5</td>\n",
       "      <td>Two guys walk into a bar. The third guy ducks.</td>\n",
       "    </tr>\n",
       "  </tbody>\n",
       "</table>\n",
       "</div>"
      ],
      "text/plain": [
       "   ID                                               Joke\n",
       "0   1  [me narrating a documentary about narrators] \"...\n",
       "1   2  Telling my daughter garlic is good for you. Go...\n",
       "2   3  I've been going through a really rough period ...\n",
       "3   4  If I could have dinner with anyone, dead or al...\n",
       "4   5     Two guys walk into a bar. The third guy ducks."
      ]
     },
     "execution_count": 7,
     "metadata": {},
     "output_type": "execute_result"
    }
   ],
   "source": [
    "input = pd.read_csv(\"../input/shortjokes.csv\")\n",
    "input.head()"
   ]
  },
  {
   "cell_type": "code",
   "execution_count": 8,
   "metadata": {},
   "outputs": [],
   "source": [
    "jokes = input[\"Joke\"].values"
   ]
  },
  {
   "cell_type": "code",
   "execution_count": 9,
   "metadata": {},
   "outputs": [
    {
     "data": {
      "text/plain": [
       "array(['[me narrating a documentary about narrators] \"I can\\'t hear what they\\'re saying cuz I\\'m talking\"',\n",
       "       'Telling my daughter garlic is good for you. Good immune system and keeps pests away.Ticks, mosquitos, vampires... men.',\n",
       "       \"I've been going through a really rough period at work this week It's my own fault for swapping my tampax for sand paper.\",\n",
       "       'If I could have dinner with anyone, dead or alive... ...I would choose alive. -B.J. Novak-'],\n",
       "      dtype=object)"
      ]
     },
     "execution_count": 9,
     "metadata": {},
     "output_type": "execute_result"
    }
   ],
   "source": [
    "jokes[:4]"
   ]
  },
  {
   "cell_type": "code",
   "execution_count": 10,
   "metadata": {},
   "outputs": [],
   "source": [
    "jokes_documents = []\n",
    "for joke in jokes:\n",
    "    jokes_documents.append({\n",
    "        \"joke\": joke,\n",
    "        \"vec\": model.infer_vector(split_into_sentences(joke))\n",
    "    })"
   ]
  },
  {
   "cell_type": "code",
   "execution_count": 11,
   "metadata": {},
   "outputs": [],
   "source": [
    "fb_sentence = \"\"\"It's really cool tbh\n",
    "like with most languages you write code then compile it then run it\n",
    "but with lisp you can do hot-reload\n",
    "like you load your code the 1st time\n",
    "run it\n",
    "if you have a bug\n",
    "you can rewrite the buggy function\n",
    "and reload just that function, keeping all your other state\"\"\".split(\"\\n\")\n",
    "# I might also get better results\n",
    "fb_sentence_vec = model.infer_vector(fb_sentence)"
   ]
  },
  {
   "cell_type": "code",
   "execution_count": 12,
   "metadata": {},
   "outputs": [],
   "source": [
    "closest_dist = -1\n",
    "closest_joke = \"\"\n",
    "\n",
    "for doc in jokes_documents:\n",
    "    vec = doc[\"vec\"]\n",
    "    similarity = 1 - spatial.distance.cosine(vec, fb_sentence_vec)\n",
    "    if(similarity > closest_dist):\n",
    "        closest_dist = similarity\n",
    "        closest_joke = doc[\"joke\"]"
   ]
  },
  {
   "cell_type": "code",
   "execution_count": 13,
   "metadata": {},
   "outputs": [
    {
     "name": "stdout",
     "output_type": "stream",
     "text": [
      "0.20344072580337524\n",
      "Do you know why you dont get along with cassiopeia? Cause she is petrifying gays.\n"
     ]
    }
   ],
   "source": [
    "print(closest_dist)\n",
    "print(closest_joke)"
   ]
  },
  {
   "cell_type": "code",
   "execution_count": null,
   "metadata": {},
   "outputs": [],
   "source": []
  },
  {
   "cell_type": "markdown",
   "metadata": {},
   "source": [
    "Thoughts: maybe split on first sentence, second sentence, right after the last ?. I need to separate it into the setup and the punchline"
   ]
  }
 ],
 "metadata": {
  "kernelspec": {
   "display_name": "Python 3",
   "language": "python",
   "name": "python3"
  },
  "language_info": {
   "codemirror_mode": {
    "name": "ipython",
    "version": 3
   },
   "file_extension": ".py",
   "mimetype": "text/x-python",
   "name": "python",
   "nbconvert_exporter": "python",
   "pygments_lexer": "ipython3",
   "version": "3.6.6"
  }
 },
 "nbformat": 4,
 "nbformat_minor": 1
}
